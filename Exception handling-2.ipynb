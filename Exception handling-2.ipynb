{
 "cells": [
  {
   "cell_type": "markdown",
   "id": "f83cb61b-3880-4501-818b-3993502168ca",
   "metadata": {},
   "source": [
    "Q1. Explain why we have to use the Exception class while creating a Custom Exception."
   ]
  },
  {
   "cell_type": "raw",
   "id": "1cf4747c-a42f-4bd2-9f3d-0e785f28f432",
   "metadata": {},
   "source": [
    "When creating a custom exception in Python, it is advisable to inherit from the built-in Exception class or one of its subclasses. This is done for several reasons:\n",
    "\n",
    "Consistency: In Python, exceptions are organized in a hierarchy, and they are meant to represent different types of errors or exceptional situations. By inheriting from Exception or one of its subclasses, your custom exception follows this hierarchy, making it clear what kind of error it represents. This consistency helps developers understand and handle exceptions more effectively.\n",
    "\n",
    "Clarity: Using Exception or its subclasses as a base class makes it clear that your class is meant to be used as an exception. It signals the purpose of the class to other developers and helps maintain code readability.\n",
    "\n",
    "Compatibility: When you inherit from Exception, your custom exception can be used interchangeably with other built-in exceptions in try and except blocks, which is crucial for error handling. This means that code designed to handle exceptions can handle your custom exception without modification.\n",
    "\n",
    "Documentation: Python's standard library and documentation rely on this hierarchy to categorize and document exceptions. When you follow this convention, it's easier for others (and yourself) to understand and use your custom exceptions."
   ]
  },
  {
   "cell_type": "code",
   "execution_count": 1,
   "id": "b00639e9-d540-4f19-bc6c-4b9fed09fab8",
   "metadata": {},
   "outputs": [
    {
     "name": "stdout",
     "output_type": "stream",
     "text": [
      "Caught a custom exception: This is a custom exception\n"
     ]
    }
   ],
   "source": [
    "class CustomError(Exception):\n",
    "    def __init__(self, message):\n",
    "        super().__init__(message)\n",
    "\n",
    "try:\n",
    "    raise CustomError(\"This is a custom exception\")\n",
    "except CustomError as e:\n",
    "    print(f\"Caught a custom exception: {e}\")\n"
   ]
  },
  {
   "cell_type": "code",
   "execution_count": null,
   "id": "55b14db9-6ff8-43f2-8187-7acd33a84c40",
   "metadata": {},
   "outputs": [],
   "source": []
  },
  {
   "cell_type": "markdown",
   "id": "78d4de92-7c14-4669-8cd8-8094c5484ae9",
   "metadata": {},
   "source": [
    "Q2. Write a python program to print Python Exception Hierarchy."
   ]
  },
  {
   "cell_type": "code",
   "execution_count": 2,
   "id": "52c0d0fe-d4cc-4107-8987-d59a1b41bcc3",
   "metadata": {},
   "outputs": [
    {
     "name": "stdout",
     "output_type": "stream",
     "text": [
      "<class 'NoneType'>\n",
      "<class 'object'>\n"
     ]
    }
   ],
   "source": [
    "import sys\n",
    "\n",
    "for exc in sys.exc_info()[1].__class__.mro():\n",
    "    print(exc)\n"
   ]
  },
  {
   "cell_type": "code",
   "execution_count": null,
   "id": "54b63dbb-49f7-4d11-bef8-bf28021482ce",
   "metadata": {},
   "outputs": [],
   "source": []
  },
  {
   "cell_type": "markdown",
   "id": "0b1c97fe-90d1-4884-8b61-d64586e527d3",
   "metadata": {},
   "source": [
    "Q3. What errors are defined in the ArithmeticError class? Explain any two with an example."
   ]
  },
  {
   "cell_type": "raw",
   "id": "e318355c-4e94-44ba-8bb9-8f8b65e8e91c",
   "metadata": {},
   "source": [
    "The ArithmeticError class is a base class for exceptions that can occur during arithmetic operations. Two common errors defined in this class are:\n",
    "\n",
    "ZeroDivisionError: Raised when you attempt to divide a number by zero.\n",
    "\n",
    "Example:"
   ]
  },
  {
   "cell_type": "code",
   "execution_count": 6,
   "id": "d38424bb-92f4-41ff-a373-9265c33b0e1e",
   "metadata": {},
   "outputs": [
    {
     "name": "stdout",
     "output_type": "stream",
     "text": [
      "Error: division by zero\n"
     ]
    }
   ],
   "source": [
    "try:\n",
    "        result = 55 / 0\n",
    "except ZeroDivisionError as e:\n",
    "    print(f\"Error: {e}\")\n"
   ]
  },
  {
   "cell_type": "raw",
   "id": "4959830a-74d3-4e73-ac85-231c38c1bb38",
   "metadata": {},
   "source": [
    "OverflowError: Raised when the result of an arithmetic operation is too large to be represented.\n",
    "\n",
    "Example:"
   ]
  },
  {
   "cell_type": "code",
   "execution_count": 9,
   "id": "261b1780-525d-42cb-9c35-6d07a639e200",
   "metadata": {},
   "outputs": [
    {
     "name": "stdout",
     "output_type": "stream",
     "text": [
      "Error: factorial() argument should not exceed 9223372036854775807\n"
     ]
    }
   ],
   "source": [
    "import math\n",
    "try:\n",
    "    result = math.factorial(15**310)  \n",
    "except OverflowError as e:\n",
    "    print(f\"Error: {e}\")\n"
   ]
  },
  {
   "cell_type": "code",
   "execution_count": null,
   "id": "9ca2183a-14d8-4f98-9676-5ed9306147ee",
   "metadata": {},
   "outputs": [],
   "source": []
  },
  {
   "cell_type": "markdown",
   "id": "76031193-ccd8-4965-a27e-d6410845a24d",
   "metadata": {},
   "source": [
    "Q4. Why LookupError class is used? Explain with an example KeyError and IndexError."
   ]
  },
  {
   "cell_type": "raw",
   "id": "73af9b5e-53da-4e13-92ec-db12b63e6792",
   "metadata": {},
   "source": [
    "The LookupError class is used as a base class for exceptions that are related to looking up values in sequences or mappings. Two common exceptions derived from LookupError are KeyError and IndexError.\n",
    "\n",
    "KeyError: Raised when you try to access a dictionary using a key that does not exist in the dictionary."
   ]
  },
  {
   "cell_type": "code",
   "execution_count": 10,
   "id": "a13e653b-de51-4dc1-8eb2-e6a1266a198c",
   "metadata": {},
   "outputs": [
    {
     "name": "stdout",
     "output_type": "stream",
     "text": [
      "Error: 'c'\n"
     ]
    }
   ],
   "source": [
    "my_dict = {'a': 1, 'b': 2}\n",
    "try:\n",
    "    value = my_dict['c']  \n",
    "except KeyError as e:\n",
    "    print(f\"Error: {e}\")\n"
   ]
  },
  {
   "cell_type": "code",
   "execution_count": null,
   "id": "e8ef5971-47e1-482b-b2eb-dcd2cfbbb649",
   "metadata": {},
   "outputs": [],
   "source": [
    "IndexError: Raised when you try to access a sequence (e.g., list or tuple) with an index that is out of range.\n",
    "\n",
    "Example:"
   ]
  },
  {
   "cell_type": "code",
   "execution_count": 11,
   "id": "342e4ed4-ea1b-4b48-ba3f-93c9a838a568",
   "metadata": {},
   "outputs": [
    {
     "name": "stdout",
     "output_type": "stream",
     "text": [
      "Error: list index out of range\n"
     ]
    }
   ],
   "source": [
    "my_list = [1, 2, 3]\n",
    "try:\n",
    "    value = my_list[3] \n",
    "except IndexError as e:\n",
    "    print(f\"Error: {e}\")\n"
   ]
  },
  {
   "cell_type": "code",
   "execution_count": null,
   "id": "e9aec661-bdb4-421e-93c2-9c3d60d8d80d",
   "metadata": {},
   "outputs": [],
   "source": []
  },
  {
   "cell_type": "markdown",
   "id": "b4936c8c-ed31-4655-b6bb-412d046d9a33",
   "metadata": {},
   "source": [
    "Q5. Explain ImportError. What is ModuleNotFoundError?"
   ]
  },
  {
   "cell_type": "raw",
   "id": "06590e3a-0e8d-4d67-868e-f9af6cb1817a",
   "metadata": {},
   "source": [
    "ImportError is raised when an imported module cannot be found or loaded. It can occur for various reasons, such as a typo in the module name or if the module is not in the search path."
   ]
  },
  {
   "cell_type": "raw",
   "id": "f34091ca-9883-4ebb-bcbe-3f6dd6b692a6",
   "metadata": {},
   "source": [
    "ModuleNotFoundError is a subclass of ImportError introduced in Python 3.6. It specifically indicates that the requested module was not found. It provides a clearer error message, making it easier to diagnose the issue."
   ]
  },
  {
   "cell_type": "code",
   "execution_count": null,
   "id": "1f77bf6b-fe49-47f2-877c-f2f530331776",
   "metadata": {},
   "outputs": [],
   "source": [
    "try:\n",
    "    import non_existent_module  \n",
    "except ModuleNotFoundError as e:\n",
    "    print(f\"Error: {e}\")\n"
   ]
  },
  {
   "cell_type": "code",
   "execution_count": null,
   "id": "a405b566-fd95-48a3-b833-a0e2cba79b81",
   "metadata": {},
   "outputs": [],
   "source": []
  }
 ],
 "metadata": {
  "kernelspec": {
   "display_name": "Python 3 (ipykernel)",
   "language": "python",
   "name": "python3"
  },
  "language_info": {
   "codemirror_mode": {
    "name": "ipython",
    "version": 3
   },
   "file_extension": ".py",
   "mimetype": "text/x-python",
   "name": "python",
   "nbconvert_exporter": "python",
   "pygments_lexer": "ipython3",
   "version": "3.10.8"
  }
 },
 "nbformat": 4,
 "nbformat_minor": 5
}
